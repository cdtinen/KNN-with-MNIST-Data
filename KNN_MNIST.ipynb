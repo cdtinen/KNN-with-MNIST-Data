{
 "cells": [
  {
   "cell_type": "code",
   "execution_count": 1,
   "metadata": {},
   "outputs": [],
   "source": [
    "import pandas as pd\n",
    "import math\n",
    "\n",
    "training_data = pd.read_csv('MNIST_train.csv')\n",
    "test_data = pd.read_csv('MNIST_test.csv')\n",
    "\n",
    "length = len(training_data)\n",
    "train = []\n",
    "for row in range(length):\n",
    "    train.append(training_data.loc[row])\n",
    "global accuracy\n",
    "accuracy = 0"
   ]
  },
  {
   "cell_type": "code",
   "execution_count": 2,
   "metadata": {},
   "outputs": [],
   "source": [
    "def EuclDistance(point1, point2, length):\n",
    "    # calculates Euclidean Distance\n",
    "    distance = 0\n",
    "    for x in range(length-1):\n",
    "        distance += pow((point1[x] - point2[x]), 2)\n",
    "    Edistance = math.sqrt(distance)\n",
    "    return Edistance"
   ]
  },
  {
   "cell_type": "code",
   "execution_count": 3,
   "metadata": {},
   "outputs": [],
   "source": [
    "def getSortedDistance(testItem, length):\n",
    "    # puts all distances into a list, sorted in descending order\n",
    "    distances = []\n",
    "    for i in range(length-1):\n",
    "        dist = EuclDistance(train[i][1:], testItem[1:], len(training_data.columns))\n",
    "        distances.append((dist, i))\n",
    "    return sorted(distances)"
   ]
  },
  {
   "cell_type": "code",
   "execution_count": 4,
   "metadata": {},
   "outputs": [],
   "source": [
    "def KNN(testItem, k, sorteddist):\n",
    "    neighborindex = []\n",
    "    neighborlabels = []\n",
    "    neighbors = []\n",
    "    global accuracy\n",
    "    \n",
    "    for i in range(k):\n",
    "        neighbors.append(sorteddist[i])\n",
    "        neighborindex.append(neighbors[i][1])\n",
    "    for j in range(len(neighborindex)):\n",
    "        neighborlabels.append(train[neighborindex[j]][0])\n",
    "\n",
    "    # weigh the votes\n",
    "    weights = []\n",
    "    for dist in range(len(neighbors)):\n",
    "        weights.append(((1 / pow(sorteddist[dist][0], 2)), neighborlabels[dist]))\n",
    "    \n",
    "    # find the label with the highest vote weight\n",
    "    labels = [0, 1, 2, 3, 4, 5, 6, 7, 8, 9]\n",
    "    labelvotes = [0, 0, 0, 0, 0, 0, 0, 0, 0, 0]\n",
    "    for vote in weights:\n",
    "        temp = list(vote)\n",
    "        for z in range(len(labels)):\n",
    "            if temp[1] == labels[z]:\n",
    "                labelvotes[z] += temp[0]\n",
    "    highestvote = max(labelvotes)\n",
    "    # use the index of the highest vote to match it with the index of the label to get the predicted label\n",
    "    predictedlabel = labels[labelvotes.index(highestvote)]\n",
    "    \n",
    "    # test accuracy\n",
    "    if testItem[0] == predictedlabel:\n",
    "        print(\"Desired Class: {} Computed Class: {}\".format(testItem[0], predictedlabel))\n",
    "        accuracy += 1\n",
    "    else:\n",
    "        print(\"Desired Class: {} Computed Class: {}\".format(testItem[0], predictedlabel))\n",
    "    if testItem.equals(test_data.loc[len(test_data) - 1]):\n",
    "        print(\"Accuracy Rate: {}%\".format((accuracy / len(test_data)) * 100))\n",
    "        print(\"Number of misclassified test samples: {}\".format(len(test_data) - accuracy))\n",
    "        print(\"Total number of test samples: {}\".format(len(test_data)))"
   ]
  },
  {
   "cell_type": "code",
   "execution_count": 5,
   "metadata": {},
   "outputs": [
    {
     "name": "stdout",
     "output_type": "stream",
     "text": [
      "K = 7\n",
      "Desired Class: 0 Computed Class: 0\n",
      "Desired Class: 0 Computed Class: 0\n",
      "Desired Class: 0 Computed Class: 0\n",
      "Desired Class: 0 Computed Class: 0\n",
      "Desired Class: 0 Computed Class: 0\n",
      "Desired Class: 1 Computed Class: 1\n",
      "Desired Class: 1 Computed Class: 1\n",
      "Desired Class: 1 Computed Class: 1\n",
      "Desired Class: 1 Computed Class: 1\n",
      "Desired Class: 1 Computed Class: 1\n",
      "Desired Class: 2 Computed Class: 8\n",
      "Desired Class: 2 Computed Class: 2\n",
      "Desired Class: 2 Computed Class: 2\n",
      "Desired Class: 2 Computed Class: 6\n",
      "Desired Class: 2 Computed Class: 2\n",
      "Desired Class: 3 Computed Class: 9\n",
      "Desired Class: 3 Computed Class: 3\n",
      "Desired Class: 3 Computed Class: 3\n",
      "Desired Class: 3 Computed Class: 3\n",
      "Desired Class: 3 Computed Class: 3\n",
      "Desired Class: 4 Computed Class: 4\n",
      "Desired Class: 4 Computed Class: 4\n",
      "Desired Class: 4 Computed Class: 4\n",
      "Desired Class: 4 Computed Class: 4\n",
      "Desired Class: 4 Computed Class: 9\n",
      "Desired Class: 5 Computed Class: 5\n",
      "Desired Class: 5 Computed Class: 6\n",
      "Desired Class: 5 Computed Class: 5\n",
      "Desired Class: 5 Computed Class: 5\n",
      "Desired Class: 5 Computed Class: 5\n",
      "Desired Class: 6 Computed Class: 6\n",
      "Desired Class: 6 Computed Class: 6\n",
      "Desired Class: 6 Computed Class: 6\n",
      "Desired Class: 6 Computed Class: 6\n",
      "Desired Class: 6 Computed Class: 6\n",
      "Desired Class: 7 Computed Class: 7\n",
      "Desired Class: 7 Computed Class: 7\n",
      "Desired Class: 7 Computed Class: 7\n",
      "Desired Class: 7 Computed Class: 7\n",
      "Desired Class: 7 Computed Class: 7\n",
      "Desired Class: 8 Computed Class: 8\n",
      "Desired Class: 8 Computed Class: 8\n",
      "Desired Class: 8 Computed Class: 8\n",
      "Desired Class: 8 Computed Class: 8\n",
      "Desired Class: 8 Computed Class: 8\n",
      "Desired Class: 9 Computed Class: 9\n",
      "Desired Class: 9 Computed Class: 9\n",
      "Desired Class: 9 Computed Class: 9\n",
      "Desired Class: 9 Computed Class: 9\n",
      "Desired Class: 9 Computed Class: 9\n",
      "Accuracy Rate: 90.0%\n",
      "Number of misclassified test samples: 5\n",
      "Total number of test samples: 50\n"
     ]
    }
   ],
   "source": [
    "k = 7\n",
    "print(\"K =\", k)\n",
    "for x in range(len(test_data)):\n",
    "    KNN(test_data.loc[x], k, getSortedDistance(test_data.loc[x], length))"
   ]
  },
  {
   "cell_type": "code",
   "execution_count": null,
   "metadata": {},
   "outputs": [],
   "source": []
  }
 ],
 "metadata": {
  "kernelspec": {
   "display_name": "Python 3",
   "language": "python",
   "name": "python3"
  },
  "language_info": {
   "codemirror_mode": {
    "name": "ipython",
    "version": 3
   },
   "file_extension": ".py",
   "mimetype": "text/x-python",
   "name": "python",
   "nbconvert_exporter": "python",
   "pygments_lexer": "ipython3",
   "version": "3.7.3"
  }
 },
 "nbformat": 4,
 "nbformat_minor": 2
}
